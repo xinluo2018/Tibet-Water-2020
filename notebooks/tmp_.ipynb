{
 "cells": [
  {
   "cell_type": "code",
   "execution_count": null,
   "source": [
    "import os\n",
    "os.chdir('..')\n",
    "from notebooks import config\n",
    "import geopandas as gpd\n",
    "import numpy as np\n",
    "from utils.geotif_io import readTiff, writeTiff\n",
    "from utils.imgShow import imgShow\n",
    "import matplotlib.pyplot as plt\n",
    "from utils.transform_xy import coor2coor, imagexy2geo, geo2imagexy\n"
   ],
   "outputs": [],
   "metadata": {}
  },
  {
   "cell_type": "code",
   "execution_count": null,
   "source": [
    "path_shp = 'data/tibet_tiles/tiles_shp/tibet_tiles.gpkg'\n",
    "path_img_1 = 'data/tibet_tiles/s1_ascend/tibet_s1as_202008_tile_1.tif'\n",
    "path_img_2 = 'data/tibet_tiles/s1_ascend/tibet_s1as_202008_tile_2.tif'\n",
    "path_img_mosaic = 'data/tibet_tiles/mosaic_img.tif'\n"
   ],
   "outputs": [],
   "metadata": {}
  },
  {
   "cell_type": "code",
   "execution_count": null,
   "source": [
    "!gdal_merge.py -o data/tibet_tiles/mosaic_img.tif -init 0 data/tibet_tiles/s1_ascend/tibet_s1as_202008_tile_1.tif data/tibet_tiles/s1_ascend/tibet_s1as_202008_tile_2.tif\n",
    "\n"
   ],
   "outputs": [],
   "metadata": {}
  },
  {
   "cell_type": "code",
   "execution_count": null,
   "source": [
    "tiles_gdf = gpd.read_file(path_shp)\n",
    "# tiles_gdf['geometry'][0]\n",
    "tiles_gdf.loc[2:4]\n"
   ],
   "outputs": [],
   "metadata": {}
  },
  {
   "cell_type": "code",
   "execution_count": null,
   "source": [
    "s1_ascend_t1, s1_ascend_info_t1 = readTiff(path_in=path_img_1)\n",
    "s1_ascend_t2, s1_ascend_info_t2 = readTiff(path_in=path_img_2)\n",
    "s1_ascend_mosaic, s1_ascend_info_mosaic = readTiff(path_in=path_img_mosaic)\n",
    "print(s1_ascend_info_t1)\n",
    "print(s1_ascend_info_t2)\n",
    "print(s1_ascend_info_mosaic)\n"
   ],
   "outputs": [],
   "metadata": {}
  },
  {
   "cell_type": "code",
   "execution_count": null,
   "source": [
    "plt.figure(figsize=(10,5))\n",
    "imgShow(s1_ascend_mosaic, color_bands=(0,1,0), clip_percent=2)\n",
    "\n"
   ],
   "outputs": [],
   "metadata": {}
  },
  {
   "cell_type": "code",
   "execution_count": null,
   "source": [
    "plt.figure(figsize=(10,4))\n",
    "plt.subplot(1,2,1)\n",
    "imgShow(s1_ascend_t1, color_bands=(0,1,0), clip_percent=2)\n",
    "plt.subplot(1,2,2)\n",
    "imgShow(s1_ascend_t2, color_bands=(0,1,0), clip_percent=2)\n"
   ],
   "outputs": [],
   "metadata": {}
  },
  {
   "cell_type": "code",
   "execution_count": null,
   "source": [
    "extent_1 = s1_ascend_info_t1['geoextent']\n",
    "extent_2 = s1_ascend_info_t2['geoextent']\n",
    "print(extent_1)\n",
    "print(extent_2)\n",
    "\n"
   ],
   "outputs": [],
   "metadata": {}
  },
  {
   "cell_type": "code",
   "execution_count": null,
   "source": [
    "## common region\n",
    "extents = np.array([extent_1, extent_2])\n",
    "extents_min = np.min(extents, axis=0)\n",
    "extents_max = np.max(extents, axis=0)\n",
    "common_extent = [extents_max[0], extents_min[1], extents_max[2], extents_min[3]]\n",
    "print(common_extent)\n",
    "mosaic_extent = [extents_min[0], extents_max[1], extents_min[2], extents_max[3]]\n",
    "print(mosaic_extent)\n"
   ],
   "outputs": [],
   "metadata": {}
  },
  {
   "cell_type": "code",
   "execution_count": null,
   "source": [
    "pixel_width_1 = s1_ascend_info_t1['geotrans'][1]\n",
    "pixel_height_1 = abs(s1_ascend_info_t1['geotrans'][5])\n",
    "print(pixel_width_1, pixel_height_1)\n"
   ],
   "outputs": [],
   "metadata": {}
  },
  {
   "cell_type": "code",
   "execution_count": null,
   "source": [
    "mosaic_cols = int((mosaic_extent[1]-mosaic_extent[0]) / pixel_width_1)\n",
    "mosaic_rows = int((mosaic_extent[3]-mosaic_extent[2]) / pixel_height_1)\n",
    "print(mosaic_rows, mosaic_cols)\n"
   ],
   "outputs": [],
   "metadata": {}
  },
  {
   "cell_type": "code",
   "execution_count": null,
   "source": [
    "col_offset_1 = int((extent_1[0]-mosaic_extent[0])/pixel_width_1)\n",
    "row_offset_1 = int((extent_1[3]-mosaic_extent[3])/pixel_height_1)\n",
    "print(row_offset_1, col_offset_1)\n",
    "col_offset_2 = int((extent_2[0]-mosaic_extent[0])/pixel_width_1)\n",
    "row_offset_2 = int((extent_2[3]-mosaic_extent[3])/pixel_height_1)\n",
    "print(row_offset_2, col_offset_2)\n",
    "\n",
    "mosaic_geotrans = [mosaic_extent[0], pixel_width_1, 0, mosaic_extent[3], pixel_height_1, 0]\n"
   ],
   "outputs": [],
   "metadata": {}
  },
  {
   "cell_type": "code",
   "execution_count": null,
   "source": [
    "\n",
    "\n",
    "\n"
   ],
   "outputs": [],
   "metadata": {}
  }
 ],
 "metadata": {
  "interpreter": {
   "hash": "6f5bb23da6bd6ab87296804a7ae062a565b497c650c7064ca78191dd29b49fd6"
  },
  "kernelspec": {
   "name": "python3",
   "display_name": "Python 3.6.13 64-bit ('venv-luo': conda)"
  },
  "language_info": {
   "codemirror_mode": {
    "name": "ipython",
    "version": 3
   },
   "file_extension": ".py",
   "mimetype": "text/x-python",
   "name": "python",
   "nbconvert_exporter": "python",
   "pygments_lexer": "ipython3",
   "version": "3.6.13"
  },
  "metadata": {
   "interpreter": {
    "hash": "6f5bb23da6bd6ab87296804a7ae062a565b497c650c7064ca78191dd29b49fd6"
   }
  },
  "orig_nbformat": 2
 },
 "nbformat": 4,
 "nbformat_minor": 2
}