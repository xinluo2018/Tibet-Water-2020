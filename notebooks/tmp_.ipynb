{
 "cells": [
  {
   "cell_type": "code",
   "execution_count": 10,
   "metadata": {},
   "outputs": [],
   "source": [
    "import os\n",
    "os.chdir('..')\n",
    "from notebooks import config\n",
    "import numpy as np\n",
    "import torch\n",
    "import time\n",
    "import random\n",
    "import torch\n",
    "import torch.nn as nn\n",
    "import pandas as pd\n",
    "import matplotlib.pyplot as plt\n",
    "from model.seg_model.unet import unet\n",
    "from utils.metric import oa_binary, miou_binary\n",
    "from utils.plot_dset_one import plot_dset_one\n",
    "from dataloader.read_normalize import read_normalize\n",
    "from model.seg_model.deeplabv3_plus import deeplabv3plus, deeplabv3plus_imp\n",
    "from dataloader.parallel_loader import threads_scene_dset\n",
    "from dataloader.loader import patch_tensor_dset\n",
    "from utils.imgShow import imgShow\n",
    "import glob\n",
    "\n"
   ]
  },
  {
   "cell_type": "code",
   "execution_count": 2,
   "metadata": {},
   "outputs": [],
   "source": [
    "# ----------Data paths-------------- #\n",
    "paths_as = sorted(glob.glob(config.root+'/data/s1_ascend/*'))\n",
    "paths_des = sorted(glob.glob(config.root+'/data/s1_descend/*'))\n",
    "paths_truth = sorted(glob.glob(config.root+'/data/s1_truth/*'))\n"
   ]
  },
  {
   "cell_type": "code",
   "execution_count": 3,
   "metadata": {},
   "outputs": [
    {
     "data": {
      "text/plain": [
       "20"
      ]
     },
     "execution_count": 3,
     "metadata": {},
     "output_type": "execute_result"
    }
   ],
   "source": [
    "### -----data read & pre-processing------- ###\n",
    "scene_list, truth_list = read_normalize(paths_as=paths_as,\\\n",
    "                                    paths_des=paths_des, paths_truth=paths_truth)\n",
    "len(scene_list)\n"
   ]
  },
  {
   "cell_type": "markdown",
   "metadata": {},
   "source": [
    "### Multi-threading loading\n"
   ]
  },
  {
   "cell_type": "code",
   "execution_count": 5,
   "metadata": {
    "tags": []
   },
   "outputs": [
    {
     "name": "stdout",
     "output_type": "stream",
     "text": [
      "150\n"
     ]
    }
   ],
   "source": [
    "threads_tra_dset = threads_scene_dset(scene_list[0:15], \\\n",
    "                                    truth_list[0:15], config.transforms_tra,num_thread=10)\n",
    "print(threads_tra_dset.__len__())\n",
    "threads_tra_loader = torch.utils.data.DataLoader(threads_tra_dset, \\\n",
    "                                        batch_size=4, shuffle=True, num_workers=0)\n"
   ]
  },
  {
   "cell_type": "code",
   "execution_count": 70,
   "metadata": {},
   "outputs": [],
   "source": [
    "import torch.nn.functional as F\n",
    "\n",
    "def convert_g_l(img_g, scale_ratio):\n",
    "    '''global_size should be divisible by local_size.\n",
    "    '''\n",
    "    size_g = img_g.shape[2]\n",
    "    size_l = size_g//scale_ratio\n",
    "    if size_l >= 1:\n",
    "        ''' crop -> enlarge scale '''\n",
    "        start_crop = (size_g - size_l)//2\n",
    "        img_l_crop = img_g[:,:, start_crop:start_crop+size_l, start_crop:start_crop+size_l]\n",
    "        img_l = F.interpolate(img_l_crop, size=[size_g, size_g], mode='nearest')\n",
    "\n",
    "    else:\n",
    "        ''' enlarge scale -> crop '''\n",
    "        start_crop = (size_g*scale_ratio - size_l*scale_ratio)//2\n",
    "        img_g_up = F.interpolate(img_g, size=[size_g*scale_ratio, size_g*scale_ratio], mode='nearest')\n",
    "        img_l = img_g_up[:, :, start_crop:start_crop+size_l*scale_ratio, start_crop:start_crop+size_l*scale_ratio]\n",
    "\n",
    "    return img_l\n",
    "\n"
   ]
  },
  {
   "cell_type": "markdown",
   "metadata": {},
   "source": [
    "### Comparison"
   ]
  },
  {
   "cell_type": "code",
   "execution_count": 69,
   "metadata": {},
   "outputs": [],
   "source": [
    "for patch, truth in threads_tra_loader:\n",
    "    # print(patch[0].shape)\n",
    "    pass\n"
   ]
  },
  {
   "cell_type": "code",
   "execution_count": 65,
   "metadata": {},
   "outputs": [
    {
     "data": {
      "text/plain": [
       "torch.Size([2, 4, 16, 16])"
      ]
     },
     "execution_count": 65,
     "metadata": {},
     "output_type": "execute_result"
    }
   ],
   "source": [
    "patch[0].shape"
   ]
  },
  {
   "cell_type": "code",
   "execution_count": 74,
   "metadata": {},
   "outputs": [
    {
     "data": {
      "image/png": "[encoded data removed]",
      "text/plain": [
       "<Figure size 1080x360 with 3 Axes>"
      ]
     },
     "metadata": {
      "needs_background": "light"
     },
     "output_type": "display_data"
    }
   ],
   "source": [
    "patch[0] = patch[0][:,:,0:16,0:16]\n",
    "\n",
    "plt.figure(figsize=(15,5))\n",
    "plt.subplot(131)\n",
    "imgShow(patch[0][0].numpy().transpose(1,2,0), clip_percent=0)\n",
    "\n",
    "plt.subplot(132)\n",
    "imgShow(patch[0][0].numpy().transpose(1,2,0)[7:9,7:9,:], clip_percent=0)\n",
    "\n",
    "patch_l = convert_g_l(patch[0], 8)\n",
    "plt.subplot(133)\n",
    "imgShow(patch_l[0].numpy().transpose(1,2,0), clip_percent=0)\n"
   ]
  },
  {
   "cell_type": "code",
   "execution_count": null,
   "metadata": {},
   "outputs": [],
   "source": []
  }
 ],
 "metadata": {
  "interpreter": {
   "hash": "6f5bb23da6bd6ab87296804a7ae062a565b497c650c7064ca78191dd29b49fd6"
  },
  "kernelspec": {
   "display_name": "Python 3.6.13 64-bit ('venv-luo': conda)",
   "name": "python3"
  },
  "language_info": {
   "codemirror_mode": {
    "name": "ipython",
    "version": 3
   },
   "file_extension": ".py",
   "mimetype": "text/x-python",
   "name": "python",
   "nbconvert_exporter": "python",
   "pygments_lexer": "ipython3",
   "version": "3.6.13"
  },
  "metadata": {
   "interpreter": {
    "hash": "6f5bb23da6bd6ab87296804a7ae062a565b497c650c7064ca78191dd29b49fd6"
   }
  },
  "orig_nbformat": 2
 },
 "nbformat": 4,
 "nbformat_minor": 2
}