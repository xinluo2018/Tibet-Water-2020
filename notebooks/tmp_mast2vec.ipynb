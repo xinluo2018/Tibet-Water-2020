{
 "cells": [
  {
   "cell_type": "code",
   "execution_count": 1,
   "source": [
    "import os\n",
    "os.chdir('..')\n",
    "import glob\n",
    "from utils.geotif_io import readTiff, writeTiff\n",
    "from utils.raster_vec import raster2vec\n"
   ],
   "outputs": [],
   "metadata": {}
  },
  {
   "cell_type": "code",
   "execution_count": 2,
   "source": [
    "paths_pred = sorted(glob.glob('data/s1_water/*_water.tif'))\n",
    "len(paths_pred)\n",
    "paths_pred[0]\n",
    "\n"
   ],
   "outputs": [
    {
     "output_type": "execute_result",
     "data": {
      "text/plain": [
       "'data/s1_water/s1_as_scene_01_water.tif'"
      ]
     },
     "metadata": {},
     "execution_count": 2
    }
   ],
   "metadata": {}
  },
  {
   "cell_type": "code",
   "execution_count": 3,
   "source": [
    "for i in range(len(paths_pred)):\n",
    "    print('water_map:', paths_pred[i])\n",
    "    path_save = paths_pred[i].split('.')[0]+'.gpkg'\n",
    "    if os.path.exists(path_save):        \n",
    "        continue\n",
    "    raster2vec(raster_path=paths_pred[i], \\\n",
    "               output_path=path_save, \\\n",
    "               dn_values=[1])\n",
    "    print('saved gpkg-->:', path_save)\n",
    "\n"
   ],
   "outputs": [
    {
     "output_type": "stream",
     "name": "stdout",
     "text": [
      "water_map: data/s1_water/s1_as_scene_01_water.tif\n",
      "saved gpkg-->: data/s1_water/s1_as_scene_01_water.gpkg\n",
      "water_map: data/s1_water/s1_as_scene_02_water.tif\n",
      "saved gpkg-->: data/s1_water/s1_as_scene_02_water.gpkg\n",
      "water_map: data/s1_water/s1_as_scene_03_water.tif\n",
      "saved gpkg-->: data/s1_water/s1_as_scene_03_water.gpkg\n",
      "water_map: data/s1_water/s1_as_scene_04_water.tif\n",
      "saved gpkg-->: data/s1_water/s1_as_scene_04_water.gpkg\n",
      "water_map: data/s1_water/s1_as_scene_05_water.tif\n",
      "saved gpkg-->: data/s1_water/s1_as_scene_05_water.gpkg\n",
      "water_map: data/s1_water/s1_as_scene_06_water.tif\n",
      "saved gpkg-->: data/s1_water/s1_as_scene_06_water.gpkg\n",
      "water_map: data/s1_water/s1_as_scene_07_water.tif\n",
      "saved gpkg-->: data/s1_water/s1_as_scene_07_water.gpkg\n",
      "water_map: data/s1_water/s1_as_scene_08_water.tif\n",
      "saved gpkg-->: data/s1_water/s1_as_scene_08_water.gpkg\n",
      "water_map: data/s1_water/s1_as_scene_09_water.tif\n",
      "saved gpkg-->: data/s1_water/s1_as_scene_09_water.gpkg\n",
      "water_map: data/s1_water/s1_as_scene_10_water.tif\n",
      "saved gpkg-->: data/s1_water/s1_as_scene_10_water.gpkg\n",
      "water_map: data/s1_water/s1_as_scene_11_water.tif\n",
      "saved gpkg-->: data/s1_water/s1_as_scene_11_water.gpkg\n",
      "water_map: data/s1_water/s1_as_scene_12_water.tif\n",
      "saved gpkg-->: data/s1_water/s1_as_scene_12_water.gpkg\n",
      "water_map: data/s1_water/s1_as_scene_13_water.tif\n",
      "saved gpkg-->: data/s1_water/s1_as_scene_13_water.gpkg\n",
      "water_map: data/s1_water/s1_as_scene_14_water.tif\n",
      "saved gpkg-->: data/s1_water/s1_as_scene_14_water.gpkg\n",
      "water_map: data/s1_water/s1_as_scene_15_water.tif\n",
      "saved gpkg-->: data/s1_water/s1_as_scene_15_water.gpkg\n",
      "water_map: data/s1_water/s1_as_scene_16_water.tif\n",
      "saved gpkg-->: data/s1_water/s1_as_scene_16_water.gpkg\n",
      "water_map: data/s1_water/s1_as_scene_17_water.tif\n",
      "saved gpkg-->: data/s1_water/s1_as_scene_17_water.gpkg\n",
      "water_map: data/s1_water/s1_as_scene_18_water.tif\n",
      "saved gpkg-->: data/s1_water/s1_as_scene_18_water.gpkg\n",
      "water_map: data/s1_water/s1_as_scene_19_water.tif\n",
      "saved gpkg-->: data/s1_water/s1_as_scene_19_water.gpkg\n",
      "water_map: data/s1_water/s1_as_scene_20_water.tif\n",
      "saved gpkg-->: data/s1_water/s1_as_scene_20_water.gpkg\n"
     ]
    }
   ],
   "metadata": {}
  }
 ],
 "metadata": {
  "orig_nbformat": 4,
  "language_info": {
   "name": "python",
   "version": "3.6.13",
   "mimetype": "text/x-python",
   "codemirror_mode": {
    "name": "ipython",
    "version": 3
   },
   "pygments_lexer": "ipython3",
   "nbconvert_exporter": "python",
   "file_extension": ".py"
  },
  "kernelspec": {
   "name": "python3",
   "display_name": "Python 3.6.13 64-bit ('venv-luo': conda)"
  },
  "interpreter": {
   "hash": "6f5bb23da6bd6ab87296804a7ae062a565b497c650c7064ca78191dd29b49fd6"
  }
 },
 "nbformat": 4,
 "nbformat_minor": 2
}