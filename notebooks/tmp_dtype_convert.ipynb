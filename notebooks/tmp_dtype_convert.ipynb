{
 "cells": [
  {
   "cell_type": "code",
   "execution_count": 1,
   "metadata": {},
   "outputs": [],
   "source": [
    "import os\n",
    "os.chdir('..')\n",
    "from notebooks import config\n",
    "import geopandas as gpd\n",
    "import numpy as np\n",
    "from utils.geotif_io import readTiff, writeTiff\n",
    "from utils.imgShow import imgShow\n",
    "from utils.buffer_remove import buffer_remove\n",
    "import matplotlib.pyplot as plt\n",
    "from swatnet_infer import get_s1pair_nor\n",
    "from utils.transform_xy import coor2coor, imagexy2geo, geo2imagexy\n",
    "import glob\n"
   ]
  },
  {
   "cell_type": "code",
   "execution_count": 2,
   "metadata": {},
   "outputs": [
    {
     "data": {
      "text/plain": [
       "371"
      ]
     },
     "execution_count": 2,
     "metadata": {},
     "output_type": "execute_result"
    }
   ],
   "source": [
    "dir_as = config.root_tb_data + '/tibet-202008/s1_ascend'\n",
    "path_as = sorted(glob.glob(dir_as + '/*'))\n",
    "dir_des = config.root_tb_data + '/tibet-202008/s1_descend'\n",
    "path_des = sorted(glob.glob(dir_des + '/*'))\n",
    "len(path_des)\n",
    "\n"
   ]
  },
  {
   "cell_type": "code",
   "execution_count": 3,
   "metadata": {},
   "outputs": [
    {
     "name": "stdout",
     "output_type": "stream",
     "text": [
      "{'geoextent': (91.5019456827724, 92.74027330193117, 25.887380363171133, 27.01368806640019), 'geotrans': (91.5019456827724, 8.983152841195215e-05, 0.0, 27.01368806640019, 0.0, -8.983152841195215e-05), 'geosrs': '4326', 'row': 12538, 'col': 13785, 'bands': 2}\n"
     ]
    }
   ],
   "source": [
    "idx = 0\n",
    "s1_as, s1_as_info = readTiff(path_in=path_as[idx])\n",
    "print(s1_as_info)\n"
   ]
  },
  {
   "cell_type": "code",
   "execution_count": 5,
   "metadata": {},
   "outputs": [
    {
     "name": "stdout",
     "output_type": "stream",
     "text": [
      "input image: 1\n",
      "out_path: /myDrive/tibet-water/tibet-202008/s1_descend/tibet_s1des_202008_tile_001_int16.tif\n",
      "input image: 2\n",
      "input not need converting\n",
      "input image: 3\n",
      "out_path: /myDrive/tibet-water/tibet-202008/s1_descend/tibet_s1des_202008_tile_002_int16.tif\n",
      "input image: 4\n",
      "input not need converting\n"
     ]
    }
   ],
   "source": [
    "for i, path in enumerate(path_des[0:4]):\n",
    "    print('input image:', i+1)\n",
    "    s1_img, s1_info = readTiff(path_in=path)\n",
    "    if s1_img.dtype.name == 'float32':\n",
    "        path_new = path.split('/')[-1].split('.')[0] + '_int16.tif'\n",
    "        path_new = '/'.join(path.split('/')[:-1]) + '/' + path_new\n",
    "        s1_img_new = np.int16(s1_img * 100)\n",
    "        print('out_path:',path_new)\n",
    "        writeTiff(im_data = s1_img_new, \n",
    "            im_geotrans = s1_info['geotrans'], \n",
    "            im_geosrs = s1_info['geosrs'], \n",
    "            path_out = path_new)\n",
    "    else: \n",
    "        print('input not need converting')\n"
   ]
  },
  {
   "cell_type": "code",
   "execution_count": null,
   "metadata": {},
   "outputs": [],
   "source": [
    "\n"
   ]
  },
  {
   "cell_type": "code",
   "execution_count": null,
   "metadata": {},
   "outputs": [
    {
     "ename": "Error",
     "evalue": "Session cannot generate requests",
     "output_type": "error",
     "traceback": [
      "Error: Session cannot generate requests",
      "at w.executeCodeCell (/home/yons/.vscode-server/extensions/ms-toolsai.jupyter-2021.9.1001312534/out/client/extension.js:52:301180)",
      "at w.execute (/home/yons/.vscode-server/extensions/ms-toolsai.jupyter-2021.9.1001312534/out/client/extension.js:52:300551)",
      "at w.start (/home/yons/.vscode-server/extensions/ms-toolsai.jupyter-2021.9.1001312534/out/client/extension.js:52:296215)",
      "at async t.CellExecutionQueue.executeQueuedCells (/home/yons/.vscode-server/extensions/ms-toolsai.jupyter-2021.9.1001312534/out/client/extension.js:52:310950)",
      "at async t.CellExecutionQueue.start (/home/yons/.vscode-server/extensions/ms-toolsai.jupyter-2021.9.1001312534/out/client/extension.js:52:310490)"
     ]
    }
   ],
   "source": [
    "plt.figure(figsize=(10,4))\n",
    "plt.subplot(1,1,1)\n",
    "imgShow(s1_as, color_bands=(0,1,0), clip_percent=2)\n"
   ]
  }
 ],
 "metadata": {
  "interpreter": {
   "hash": "9e6e69ff3e2cd36413e9d5ecdd2d7f5c54dab503588d73d0cbbe7b01ed05180c"
  },
  "kernelspec": {
   "display_name": "Python 3.6.13 64-bit ('venv-luo': conda)",
   "name": "python3"
  },
  "language_info": {
   "codemirror_mode": {
    "name": "ipython",
    "version": 3
   },
   "file_extension": ".py",
   "mimetype": "text/x-python",
   "name": "python",
   "nbconvert_exporter": "python",
   "pygments_lexer": "ipython3",
   "version": "3.6.13"
  },
  "metadata": {
   "interpreter": {
    "hash": "6f5bb23da6bd6ab87296804a7ae062a565b497c650c7064ca78191dd29b49fd6"
   }
  },
  "orig_nbformat": 2
 },
 "nbformat": 4,
 "nbformat_minor": 2
}
