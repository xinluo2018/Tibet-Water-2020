{
 "cells": [
  {
   "cell_type": "code",
   "execution_count": 1,
   "metadata": {},
   "outputs": [],
   "source": [
    "import os\n",
    "os.chdir('..')\n",
    "from visual import config\n",
    "from utils.geotif_io import readTiff, writeTiff\n",
    "from utils.imgShow import imgShow\n",
    "import matplotlib.pyplot as plt\n",
    "import matplotlib as mpl\n",
    "import numpy as np\n",
    "from utils.raster_vec import raster2vec"
   ]
  },
  {
   "cell_type": "code",
   "execution_count": 2,
   "metadata": {},
   "outputs": [
    {
     "name": "stdout",
     "output_type": "stream",
     "text": [
      "[('/myDrive/tibet-water/tibet-202008/s1_ascend/tibet_s1as_202008_tile_218.tif', '/myDrive/tibet-water/tibet-202008/s1_descend/tibet_s1des_202008_tile_218.tif', '/myDrive/tibet-water/tibet-202008/s1_water/tibet_s1_202008_tile_218_water.tif')]\n",
      "--- data reading...\n",
      "/myDrive/tibet-water/tibet-202008/s1_ascend/tibet_s1as_202008_tile_218.tif\n",
      "/myDrive/tibet-water/tibet-202008/s1_descend/tibet_s1des_202008_tile_218.tif\n",
      "image shape: (12475, 15216, 4)\n",
      "--- surface water mapping using swatnet model...\n",
      "-- convert image to multi-scale pathes input...\n",
      "number of multi-scale patches: 4992\n",
      "-- surface water mapping using swatnet model...\n",
      "-- comvert patch result to image result...\n",
      "--- write out the result image...\n",
      "--- write out -->\n",
      "/myDrive/tibet-water/tibet-202008/s1_water/tibet_s1_202008_tile_218_water.tif\n",
      "[('/myDrive/tibet-water/tibet-202008/s1_ascend/tibet_s1as_202008_tile_219.tif', '/myDrive/tibet-water/tibet-202008/s1_descend/tibet_s1des_202008_tile_219.tif', '/myDrive/tibet-water/tibet-202008/s1_water/tibet_s1_202008_tile_219_water.tif')]\n",
      "--- data reading...\n",
      "/myDrive/tibet-water/tibet-202008/s1_ascend/tibet_s1as_202008_tile_219.tif\n",
      "/myDrive/tibet-water/tibet-202008/s1_descend/tibet_s1des_202008_tile_219.tif\n",
      "image shape: (12361, 15350, 4)\n",
      "--- surface water mapping using swatnet model...\n",
      "-- convert image to multi-scale pathes input...\n",
      "number of multi-scale patches: 5056\n",
      "-- surface water mapping using swatnet model...\n",
      "-- comvert patch result to image result...\n",
      "--- write out the result image...\n",
      "--- write out -->\n",
      "/myDrive/tibet-water/tibet-202008/s1_water/tibet_s1_202008_tile_219_water.tif\n",
      "[('/myDrive/tibet-water/tibet-202008/s1_ascend/tibet_s1as_202008_tile_236.tif', '/myDrive/tibet-water/tibet-202008/s1_descend/tibet_s1des_202008_tile_236.tif', '/myDrive/tibet-water/tibet-202008/s1_water/tibet_s1_202008_tile_236_water.tif')]\n",
      "--- data reading...\n",
      "/myDrive/tibet-water/tibet-202008/s1_ascend/tibet_s1as_202008_tile_236.tif\n",
      "/myDrive/tibet-water/tibet-202008/s1_descend/tibet_s1des_202008_tile_236.tif\n",
      "image shape: (12242, 15659, 4)\n",
      "--- surface water mapping using swatnet model...\n",
      "-- convert image to multi-scale pathes input...\n",
      "number of multi-scale patches: 5103\n",
      "-- surface water mapping using swatnet model...\n",
      "-- comvert patch result to image result...\n",
      "--- write out the result image...\n",
      "--- write out -->\n",
      "/myDrive/tibet-water/tibet-202008/s1_water/tibet_s1_202008_tile_236_water.tif\n",
      "[('/myDrive/tibet-water/tibet-202008/s1_ascend/tibet_s1as_202008_tile_239.tif', '/myDrive/tibet-water/tibet-202008/s1_descend/tibet_s1des_202008_tile_239.tif', '/myDrive/tibet-water/tibet-202008/s1_water/tibet_s1_202008_tile_239_water.tif')]\n",
      "--- data reading...\n",
      "/myDrive/tibet-water/tibet-202008/s1_ascend/tibet_s1as_202008_tile_239.tif\n",
      "/myDrive/tibet-water/tibet-202008/s1_descend/tibet_s1des_202008_tile_239.tif\n",
      "image shape: (12521, 15331, 4)\n",
      "--- surface water mapping using swatnet model...\n",
      "-- convert image to multi-scale pathes input...\n",
      "number of multi-scale patches: 5135\n",
      "-- surface water mapping using swatnet model...\n",
      "-- comvert patch result to image result...\n",
      "--- write out the result image...\n",
      "--- write out -->\n",
      "/myDrive/tibet-water/tibet-202008/s1_water/tibet_s1_202008_tile_239_water.tif\n"
     ]
    }
   ],
   "source": [
    "!python swatnet_infer.py /myDrive/tibet-water/tibet-202008/s1_ascend/*.tif -des /myDrive/tibet-water/tibet-202008/s1_descend/*218*.tif -s 100\n",
    "!python swatnet_infer.py /myDrive/tibet-water/tibet-202008/s1_ascend/*.tif -des /myDrive/tibet-water/tibet-202008/s1_descend/*219*.tif -s 100\n",
    "!python swatnet_infer.py /myDrive/tibet-water/tibet-202008/s1_ascend/*.tif -des /myDrive/tibet-water/tibet-202008/s1_descend/*236*.tif -s 100\n",
    "!python swatnet_infer.py /myDrive/tibet-water/tibet-202008/s1_ascend/*.tif -des /myDrive/tibet-water/tibet-202008/s1_descend/*239*.tif -s 100\n",
    "\n"
   ]
  },
  {
   "cell_type": "code",
   "execution_count": 5,
   "metadata": {},
   "outputs": [],
   "source": [
    "\n",
    "\n"
   ]
  },
  {
   "cell_type": "code",
   "execution_count": 6,
   "metadata": {},
   "outputs": [],
   "source": [
    "\n"
   ]
  }
 ],
 "metadata": {
  "interpreter": {
   "hash": "9e6e69ff3e2cd36413e9d5ecdd2d7f5c54dab503588d73d0cbbe7b01ed05180c"
  },
  "kernelspec": {
   "display_name": "Python 3.6.13 64-bit ('venv-luo': conda)",
   "name": "python3"
  },
  "language_info": {
   "codemirror_mode": {
    "name": "ipython",
    "version": 3
   },
   "file_extension": ".py",
   "mimetype": "text/x-python",
   "name": "python",
   "nbconvert_exporter": "python",
   "pygments_lexer": "ipython3",
   "version": "3.6.13"
  },
  "orig_nbformat": 4
 },
 "nbformat": 4,
 "nbformat_minor": 2
}
