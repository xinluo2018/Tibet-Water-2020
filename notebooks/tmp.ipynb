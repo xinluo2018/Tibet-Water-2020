{
 "cells": [
  {
   "cell_type": "code",
   "execution_count": 4,
   "metadata": {},
   "outputs": [],
   "source": [
    "import os\n",
    "os.chdir('..')\n",
    "from visual import config\n",
    "from utils.geotif_io import readTiff, writeTiff\n",
    "from utils.imgShow import imgShow\n",
    "import matplotlib.pyplot as plt\n",
    "import matplotlib as mpl\n",
    "import numpy as np\n",
    "from utils.raster_vec import raster2vec"
   ]
  },
  {
   "cell_type": "code",
   "execution_count": 4,
   "metadata": {},
   "outputs": [],
   "source": [
    "ascend_path = 'scene23/s1_ascend/scene23_s1as_01.tif'\n",
    "descend_path = 'scene23/s1_descend/scene23_s1des_01.tif'\n"
   ]
  },
  {
   "cell_type": "code",
   "execution_count": 5,
   "metadata": {},
   "outputs": [],
   "source": [
    "ascend, ascend_info = readTiff(ascend_path)\n",
    "descend,descend_info = readTiff(descend_path)\n"
   ]
  },
  {
   "cell_type": "code",
   "execution_count": 9,
   "metadata": {},
   "outputs": [
    {
     "name": "stdout",
     "output_type": "stream",
     "text": [
      "(3342, 3521, 2)\n",
      "(3343, 3520, 2)\n",
      "(519345.3280832028, 554555.3280832028, 3916889.508580329, 3950309.508580329)\n",
      "(519350.9319201836, 554550.9319201836, 3916882.299102744, 3950312.299102744)\n"
     ]
    }
   ],
   "source": [
    "print(ascend.shape)\n",
    "print(descend.shape)\n",
    "print(ascend_info['geoextent'])\n",
    "print(descend_info['geoextent'])\n"
   ]
  },
  {
   "cell_type": "code",
   "execution_count": 22,
   "metadata": {},
   "outputs": [
    {
     "name": "stdout",
     "output_type": "stream",
     "text": [
      "Input file size is 3521, 3342\n",
      "0...10...20...30...40...50...60...70...80...90...100 - done.\n",
      "Input file size is 3520, 3343\n",
      "0...10...20...30...40...50...60...70...80...90...100 - done.\n"
     ]
    }
   ],
   "source": [
    "!gdal_translate -outsize 3520, 3342 -r bilinear -projwin 519350.9319201836 3950309.508580329 554550.9319201836 3916889.508580329 scene23/s1_ascend/scene23_s1as_01.tif scene23/s1_ascend/scene23_s1as_01_subs.tif\n",
    "\n",
    "!gdal_translate -outsize 3520, 3342 -r bilinear -projwin 519350.9319201836 3950309.508580329 554550.9319201836 3916889.508580329 scene23/s1_descend/scene23_s1des_01.tif scene23/s1_descend/scene23_s1des_01_subs.tif\n"
   ]
  },
  {
   "cell_type": "code",
   "execution_count": 23,
   "metadata": {},
   "outputs": [],
   "source": [
    "ascend_path_ = 'scene23/s1_ascend/scene23_s1as_01_subs.tif'\n",
    "descend_path_ = 'scene23/s1_descend/scene23_s1des_01_subs.tif'\n"
   ]
  },
  {
   "cell_type": "code",
   "execution_count": 24,
   "metadata": {},
   "outputs": [],
   "source": [
    "ascend_, ascend_info_ = readTiff(ascend_path_)\n",
    "descend_, descend_info_ = readTiff(descend_path_)\n"
   ]
  },
  {
   "cell_type": "code",
   "execution_count": 25,
   "metadata": {},
   "outputs": [
    {
     "name": "stdout",
     "output_type": "stream",
     "text": [
      "(3342, 3520, 2)\n",
      "(519350.9319201836, 554550.9319201836, 3916889.508580329, 3950309.508580329)\n",
      "(3342, 3520, 2)\n",
      "(519350.9319201836, 554550.9319201836, 3916889.508580329, 3950309.508580329)\n"
     ]
    }
   ],
   "source": [
    "print(ascend_.shape)\n",
    "print(ascend_info_['geoextent'])\n",
    "print(descend_.shape)\n",
    "print(descend_info_['geoextent'])"
   ]
  },
  {
   "cell_type": "code",
   "execution_count": 6,
   "metadata": {},
   "outputs": [],
   "source": [
    "raster_path = 'scene23/s1_water/scene23_s1_01_water.tif'\n",
    "output_path = 'scene23/s1_water/scene23_s1_01_water_vec.tif'\n",
    "raster2vec(raster_path, output_path, dn_values=[1])\n"
   ]
  }
 ],
 "metadata": {
  "interpreter": {
   "hash": "9e6e69ff3e2cd36413e9d5ecdd2d7f5c54dab503588d73d0cbbe7b01ed05180c"
  },
  "kernelspec": {
   "display_name": "Python 3.6.13 64-bit ('venv-luo': conda)",
   "name": "python3"
  },
  "language_info": {
   "codemirror_mode": {
    "name": "ipython",
    "version": 3
   },
   "file_extension": ".py",
   "mimetype": "text/x-python",
   "name": "python",
   "nbconvert_exporter": "python",
   "pygments_lexer": "ipython3",
   "version": "3.6.13"
  },
  "orig_nbformat": 4
 },
 "nbformat": 4,
 "nbformat_minor": 2
}
