{
 "cells": [
  {
   "cell_type": "code",
   "execution_count": 2,
   "metadata": {},
   "outputs": [],
   "source": [
    "import os\n",
    "os.chdir('..')\n",
    "from notebooks import config\n",
    "import numpy as np \n",
    "import random\n",
    "from utils.geotif_io import readTiff"
   ]
  },
  {
   "cell_type": "code",
   "execution_count": 3,
   "metadata": {},
   "outputs": [
    {
     "data": {
      "text/plain": [
       "'scene01_s1as.tif'"
      ]
     },
     "execution_count": 3,
     "metadata": {},
     "output_type": "execute_result"
    }
   ],
   "source": [
    "ascend_name = list(sorted(os.listdir(config.dir_as)))\n",
    "descend_name = list(sorted(os.listdir(config.dir_des)))\n",
    "ascend_name[0]\n"
   ]
  },
  {
   "cell_type": "code",
   "execution_count": 8,
   "metadata": {},
   "outputs": [],
   "source": [
    "ascend_list, descend_list = [], []\n",
    "\n",
    "for i in range(len(ascend_name)):\n",
    "    ascend_path = os.path.join(config.dir_as, ascend_name[i])\n",
    "    descend_path = os.path.join(config.dir_des, descend_name[i])\n",
    "    ascend, ascend_info = readTiff(ascend_path)\n",
    "    descend,descend_info = readTiff(descend_path)\n",
    "    ascend[np.where(ascend == -100)] = np.nan  \n",
    "    descend[np.where(descend == -100)] = np.nan\n",
    "    ascend_list.append(ascend)\n",
    "    descend_list.append(descend)\n"
   ]
  },
  {
   "cell_type": "code",
   "execution_count": 9,
   "metadata": {},
   "outputs": [
    {
     "name": "stdout",
     "output_type": "stream",
     "text": [
      "ascend_max(vv-vh): [25.98076439 10.22588158]\n",
      "ascend_min: [-57.77743149 -70.36878967]\n",
      "descend_max: [29.27596855 17.596035  ]\n",
      "descend_min: [-58.97639845 -68.47470856]\n"
     ]
    }
   ],
   "source": [
    "ascend_max = [np.nanmax(ascend, axis=(0,1)) for ascend in ascend_list]  # max values of each image\n",
    "ascend_max = np.nanmax(np.array(ascend_max), axis=0)   # max value of all images \n",
    "ascend_min = [np.nanmin(ascend, axis=(0,1)) for ascend in ascend_list]\n",
    "ascend_min = np.nanmin(np.array(ascend_min), axis=0)\n",
    "descend_max = [np.nanmax(descend, axis=(0,1)) for descend in descend_list]\n",
    "descend_max = np.nanmax(np.array(descend_max), axis=0)\n",
    "descend_min = [np.nanmin(descend, axis=(0,1)) for descend in descend_list]\n",
    "descend_min = np.nanmin(np.array(descend_min), axis=0)\n",
    "print('ascend_max(vv-vh):', ascend_max)\n",
    "print('ascend_min:', ascend_min)\n",
    "print('descend_max:', descend_max)\n",
    "print('descend_min:', descend_min)\n"
   ]
  }
 ],
 "metadata": {
  "interpreter": {
   "hash": "9e6e69ff3e2cd36413e9d5ecdd2d7f5c54dab503588d73d0cbbe7b01ed05180c"
  },
  "kernelspec": {
   "display_name": "Python 3.6.13 64-bit ('venv-luo': conda)",
   "name": "python3"
  },
  "language_info": {
   "codemirror_mode": {
    "name": "ipython",
    "version": 3
   },
   "file_extension": ".py",
   "mimetype": "text/x-python",
   "name": "python",
   "nbconvert_exporter": "python",
   "pygments_lexer": "ipython3",
   "version": "3.6.13"
  },
  "metadata": {
   "interpreter": {
    "hash": "6f5bb23da6bd6ab87296804a7ae062a565b497c650c7064ca78191dd29b49fd6"
   }
  },
  "orig_nbformat": 2
 },
 "nbformat": 4,
 "nbformat_minor": 2
}
