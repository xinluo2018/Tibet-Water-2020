{
 "metadata": {
  "language_info": {
   "codemirror_mode": {
    "name": "ipython",
    "version": 3
   },
   "file_extension": ".py",
   "mimetype": "text/x-python",
   "name": "python",
   "nbconvert_exporter": "python",
   "pygments_lexer": "ipython3",
   "version": "3.6.13"
  },
  "orig_nbformat": 2,
  "kernelspec": {
   "name": "python3",
   "display_name": "Python 3.6.13 64-bit ('venv-luo': conda)"
  },
  "metadata": {
   "interpreter": {
    "hash": "6f5bb23da6bd6ab87296804a7ae062a565b497c650c7064ca78191dd29b49fd6"
   }
  },
  "interpreter": {
   "hash": "6f5bb23da6bd6ab87296804a7ae062a565b497c650c7064ca78191dd29b49fd6"
  }
 },
 "nbformat": 4,
 "nbformat_minor": 2,
 "cells": [
  {
   "cell_type": "code",
   "execution_count": 1,
   "metadata": {},
   "outputs": [],
   "source": [
    "import sys\n",
    "import config\n",
    "sys.path.append(config.root)\n",
    "sys.path.append(config.root+'/model')\n",
    "sys.path.append(config.root+'/trainer')\n",
    "import matplotlib.pyplot as plt\n",
    "import numpy as np\n",
    "import torch\n",
    "import torch.nn as nn\n",
    "import time\n",
    "import random\n",
    "import glob\n",
    "from dataloader.loader import patch_tensor_dset\n",
    "from dataloader.parallel_loader import threads_scene_dset\n",
    "from dataloader.read_normalize import read_normalize\n",
    "from utils.metric import oa_binary, miou_binary\n",
    "from utils.geotif_io import readTiff\n",
    "from seg_model.unet import unet\n"
   ]
  },
  {
   "cell_type": "code",
   "execution_count": 2,
   "metadata": {},
   "outputs": [],
   "source": [
    "# ------------device---------------- #\n",
    "device = torch.device('cuda:0')\n",
    "# device = torch.device('cpu')\n",
    "\n",
    "# ----------Data paths-------------- #\n",
    "# ---s1 path---\n",
    "paths_as = sorted(glob.glob(config.root+'/data/s1_ascend/*'))\n",
    "paths_des = sorted(glob.glob(config.root+'/data/s1_descend/*'))\n",
    "paths_truth = sorted(glob.glob(config.root+'/data/s1_truth/*'))\n",
    "# ---patch path---\n",
    "paths_patch_tra = sorted(glob.glob(config.root+'/data/tra_patches/*'))\n",
    "paths_patch_test = sorted(glob.glob(config.root+'/data/test_patches/*'))\n",
    "\n",
    "#----------Training parameter------- #\n",
    "epochs = 200\n",
    "lr = 0.005\n",
    "torch.manual_seed(999)   # make the trianing replicable\n",
    "random.seed(999)         # make the data augmentation replicable"
   ]
  },
  {
   "cell_type": "code",
   "execution_count": 3,
   "metadata": {},
   "outputs": [],
   "source": [
    "## train dataset\n",
    "scene_list, truth_list = read_normalize(paths_as=paths_as, \\\n",
    "                            paths_des=paths_des, paths_truth=paths_truth)\n",
    "tra_dset = threads_scene_dset(scene_list[0:15], \\\n",
    "                            truth_list[0:15], num_thread=20)\n",
    "## test dataset\n",
    "patch_list_test = [torch.load(path) for path in paths_patch_test]\n",
    "test_dset = patch_tensor_dset(patch_pair_list=patch_list_test)\n"
   ]
  },
  {
   "cell_type": "code",
   "execution_count": 4,
   "metadata": {},
   "outputs": [
    {
     "output_type": "stream",
     "name": "stdout",
     "text": [
      "300\n250\n"
     ]
    }
   ],
   "source": [
    "print(tra_dset.__len__())\n",
    "print(test_dset.__len__())\n"
   ]
  },
  {
   "cell_type": "code",
   "execution_count": 5,
   "metadata": {},
   "outputs": [],
   "source": [
    "# tra_loader = torch.utils.data.DataLoader(tra_dset, batch_size=8, shuffle=True)\n",
    "tra_loader = torch.utils.data.DataLoader(tra_dset, batch_size=4, shuffle=True)\n",
    "test_loader = torch.utils.data.DataLoader(test_dset, batch_size=4)\n"
   ]
  },
  {
   "cell_type": "code",
   "execution_count": 6,
   "metadata": {},
   "outputs": [],
   "source": [
    "### Configuration\n",
    "model = unet(num_bands=4, num_classes=2).to(device)\n",
    "# model = deeplabv3plus_xception65(img_channels=6, num_classes=2, output_stride=32).to(device)\n",
    "# model = deeplabv3plus_mobilev2_imp(img_channels=6, num_classes=2).to(device)\n",
    "# summary(model, input_size=(6, 512, 512))\n",
    "# loss_ce = nn.CrossEntropyLoss()\n",
    "loss_bce = nn.BCELoss()\n",
    "optimizer = torch.optim.Adam(model.parameters(), lr=lr)\n",
    "lr_scheduler = torch.optim.lr_scheduler.StepLR(optimizer, step_size=5, gamma=0.5)\n"
   ]
  },
  {
   "cell_type": "code",
   "execution_count": 7,
   "metadata": {},
   "outputs": [],
   "source": [
    "'''------train step------'''\n",
    "def train_step(model, loss_fn, optimizer, x, y):\n",
    "    pred = model(x)\n",
    "    loss = loss_fn(pred, y.float())\n",
    "    optimizer.zero_grad()\n",
    "    loss.backward()\n",
    "    optimizer.step()\n",
    "    miou = miou_binary(pred=pred, truth=y)\n",
    "    oa = oa_binary(pred=pred, truth=y)\n",
    "    return loss, miou, oa\n",
    "\n",
    "'''------test step------'''\n",
    "def test_step(model, loss_fn, x, y):\n",
    "    model.eval()\n",
    "    with torch.no_grad():\n",
    "        pred = model(x)\n",
    "        loss = loss_fn(pred, y.float())\n",
    "    miou = miou_binary(pred=pred, truth=y)\n",
    "    oa = oa_binary(pred=pred, truth=y)\n",
    "    return loss, miou, oa\n",
    "\n",
    "'''------train loops------'''\n",
    "def train_loops(model, loss_fn, optimizer, tra_loader, test_loader, epoches, lr_scheduler):\n",
    "    size_tra_loader = len(tra_loader)\n",
    "    size_test_loader = len(test_loader)\n",
    "    for epoch in range(epoches):\n",
    "        # !free -m   # print the memory to be used\n",
    "        start_epoch = time.time()\n",
    "        traload_start = time.time()\n",
    "        tra_loss, test_loss = 0, 0\n",
    "        tra_miou, test_miou = 0, 0\n",
    "        tra_oa, test_oa = 0, 0\n",
    "        '''-----train the model-----'''\n",
    "        time_traload = []\n",
    "        time_testload = []\n",
    "        time_train = []\n",
    "        time_test = []\n",
    "        for x_batch, y_batch in tra_loader:\n",
    "            x_batch, y_batch = [batch.to(device) for batch in x_batch], y_batch.to(device)\n",
    "            x_batch = x_batch[2]    #!!!note: x_batch[2] for single-scale model\n",
    "            batch_loadend = time.time()  # \n",
    "            time_traload.append(batch_loadend-traload_start) # test time\n",
    "            loss, miou, oa = train_step(model=model, loss_fn=loss_fn, \n",
    "                                    optimizer=optimizer, x=x_batch, y=y_batch)\n",
    "            time_train.append(time.time()-batch_loadend)\n",
    "            tra_loss += loss.item()\n",
    "            tra_miou += miou.item()\n",
    "            tra_oa += oa.item()\n",
    "            traload_start = time.time()\n",
    "        lr_scheduler.step()  # dynamic adjust learning rate\n",
    "        '''-----test the model-----'''\n",
    "        testload_start = time.time()\n",
    "        for x_batch, y_batch in test_loader:\n",
    "            x_batch, y_batch = [batch.to(device) for batch in x_batch], y_batch.to(device)            \n",
    "            x_batch = x_batch[2]   #!!!note: x_batch[2] for single-scale model\n",
    "            batch_loadend = time.time()  # for test time\n",
    "            time_testload.append(batch_loadend-testload_start) # test time\n",
    "            loss, miou, oa = test_step(model=model, loss_fn=loss_fn, \n",
    "                                                    x=x_batch, y=y_batch)\n",
    "            time_test.append(time.time()-batch_loadend)\n",
    "            test_loss += loss.item()\n",
    "            test_miou += miou.item()\n",
    "            test_oa += oa.item()\n",
    "            testload_start = time.time()\n",
    "\n",
    "        format = 'ep: {}, tradata load: {:.2f}, testdata load: {:.2f}, model train: {:.2f}, model test: {:.2f}, all time: {:.2f}'\n",
    "        print(format.format(epoch, np.sum(time_traload), np.sum(time_testload), np.sum(time_train), np.sum(time_test), time.time()-start_epoch))\n"
   ]
  },
  {
   "cell_type": "code",
   "execution_count": 9,
   "metadata": {},
   "outputs": [
    {
     "output_type": "stream",
     "name": "stdout",
     "text": [
      "ep: 0, tradata load: 1.60, testdata load: 0.20, model train: 1.75, model test: 0.58, all time: 4.14\n",
      "ep: 1, tradata load: 1.49, testdata load: 0.20, model train: 1.77, model test: 0.58, all time: 4.05\n",
      "ep: 2, tradata load: 1.48, testdata load: 0.20, model train: 1.79, model test: 0.58, all time: 4.05\n",
      "ep: 3, tradata load: 1.49, testdata load: 0.21, model train: 1.74, model test: 0.58, all time: 4.01\n",
      "ep: 4, tradata load: 1.49, testdata load: 0.22, model train: 1.75, model test: 0.58, all time: 4.04\n",
      "ep: 5, tradata load: 1.49, testdata load: 0.21, model train: 1.67, model test: 0.59, all time: 3.97\n",
      "ep: 6, tradata load: 1.54, testdata load: 0.21, model train: 1.61, model test: 0.59, all time: 3.95\n",
      "ep: 7, tradata load: 1.50, testdata load: 0.21, model train: 1.80, model test: 0.57, all time: 4.08\n",
      "ep: 8, tradata load: 1.50, testdata load: 0.21, model train: 1.78, model test: 0.57, all time: 4.06\n",
      "ep: 9, tradata load: 1.46, testdata load: 0.20, model train: 1.64, model test: 0.58, all time: 3.89\n",
      "ep: 10, tradata load: 1.51, testdata load: 0.20, model train: 1.71, model test: 0.58, all time: 4.00\n",
      "ep: 11, tradata load: 1.52, testdata load: 0.20, model train: 1.75, model test: 0.60, all time: 4.07\n",
      "ep: 12, tradata load: 1.52, testdata load: 0.20, model train: 1.75, model test: 0.58, all time: 4.05\n",
      "ep: 13, tradata load: 1.50, testdata load: 0.20, model train: 1.72, model test: 0.58, all time: 4.01\n",
      "ep: 14, tradata load: 1.49, testdata load: 0.20, model train: 1.58, model test: 0.58, all time: 3.85\n",
      "ep: 15, tradata load: 1.49, testdata load: 0.20, model train: 1.80, model test: 0.58, all time: 4.08\n",
      "ep: 16, tradata load: 1.51, testdata load: 0.21, model train: 1.76, model test: 0.57, all time: 4.06\n",
      "ep: 17, tradata load: 1.50, testdata load: 0.21, model train: 1.78, model test: 0.58, all time: 4.07\n",
      "ep: 18, tradata load: 1.51, testdata load: 0.20, model train: 1.79, model test: 0.58, all time: 4.08\n",
      "ep: 19, tradata load: 1.48, testdata load: 0.21, model train: 1.76, model test: 0.58, all time: 4.02\n",
      "ep: 20, tradata load: 1.50, testdata load: 0.20, model train: 1.57, model test: 0.58, all time: 3.86\n",
      "ep: 21, tradata load: 1.46, testdata load: 0.20, model train: 1.77, model test: 0.58, all time: 4.01\n",
      "ep: 22, tradata load: 1.48, testdata load: 0.21, model train: 1.65, model test: 0.58, all time: 3.92\n",
      "ep: 23, tradata load: 1.50, testdata load: 0.21, model train: 1.80, model test: 0.57, all time: 4.08\n",
      "ep: 24, tradata load: 1.47, testdata load: 0.21, model train: 1.66, model test: 0.57, all time: 3.91\n",
      "ep: 25, tradata load: 1.47, testdata load: 0.21, model train: 1.68, model test: 0.57, all time: 3.92\n",
      "ep: 26, tradata load: 1.52, testdata load: 0.21, model train: 1.78, model test: 0.58, all time: 4.09\n",
      "ep: 27, tradata load: 1.54, testdata load: 0.21, model train: 1.70, model test: 0.59, all time: 4.04\n",
      "ep: 28, tradata load: 1.50, testdata load: 0.21, model train: 1.64, model test: 0.59, all time: 3.94\n",
      "ep: 29, tradata load: 1.50, testdata load: 0.20, model train: 1.68, model test: 0.57, all time: 3.95\n",
      "ep: 30, tradata load: 1.52, testdata load: 0.21, model train: 1.76, model test: 0.57, all time: 4.07\n",
      "ep: 31, tradata load: 1.55, testdata load: 0.20, model train: 1.69, model test: 0.60, all time: 4.04\n",
      "ep: 32, tradata load: 1.47, testdata load: 0.20, model train: 1.79, model test: 0.57, all time: 4.05\n",
      "ep: 33, tradata load: 1.49, testdata load: 0.21, model train: 1.61, model test: 0.59, all time: 3.90\n",
      "ep: 34, tradata load: 1.47, testdata load: 0.21, model train: 1.62, model test: 0.59, all time: 3.88\n",
      "ep: 35, tradata load: 1.53, testdata load: 0.21, model train: 1.69, model test: 0.59, all time: 4.01\n",
      "ep: 36, tradata load: 1.51, testdata load: 0.20, model train: 1.76, model test: 0.60, all time: 4.07\n",
      "ep: 37, tradata load: 1.49, testdata load: 0.21, model train: 1.78, model test: 0.58, all time: 4.06\n",
      "ep: 38, tradata load: 1.48, testdata load: 0.20, model train: 1.67, model test: 0.58, all time: 3.94\n",
      "ep: 39, tradata load: 1.49, testdata load: 0.20, model train: 1.66, model test: 0.57, all time: 3.93\n",
      "ep: 40, tradata load: 1.49, testdata load: 0.20, model train: 1.65, model test: 0.58, all time: 3.93\n",
      "ep: 41, tradata load: 1.54, testdata load: 0.20, model train: 1.66, model test: 0.59, all time: 3.99\n",
      "ep: 42, tradata load: 1.49, testdata load: 0.21, model train: 1.62, model test: 0.58, all time: 3.90\n",
      "ep: 43, tradata load: 1.48, testdata load: 0.20, model train: 1.72, model test: 0.59, all time: 4.00\n"
     ]
    }
   ],
   "source": [
    "train_loops(model=model,\n",
    "            loss_fn=loss_bce,\n",
    "            optimizer=optimizer,\n",
    "            tra_loader=tra_loader,\n",
    "            test_loader=test_loader,\n",
    "            epoches=100,\n",
    "            lr_scheduler=lr_scheduler)\n"
   ]
  },
  {
   "cell_type": "code",
   "execution_count": 8,
   "metadata": {},
   "outputs": [],
   "source": [
    "\n",
    "\n",
    "\n",
    "\n",
    "\n"
   ]
  }
 ]
}