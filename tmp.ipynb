{
 "cells": [
  {
   "cell_type": "code",
   "execution_count": 2,
   "metadata": {},
   "outputs": [],
   "source": [
    "from utils.imgShow import imgShow\n",
    "from utils.geotif_io import readTiff, writeTiff\n",
    "import matplotlib.pyplot as plt\n",
    "import numpy as np\n"
   ]
  },
  {
   "cell_type": "code",
   "execution_count": 3,
   "metadata": {},
   "outputs": [],
   "source": [
    "path_s1as = 'data/test_demo/s1as.tif'\n",
    "path_s1des = 'data/test_demo/s1des.tif'\n",
    "s1_as, s1_as_info = readTiff(path_s1as)\n",
    "s1_des, s1_des_info = readTiff(path_s1des)\n"
   ]
  },
  {
   "cell_type": "code",
   "execution_count": 8,
   "metadata": {},
   "outputs": [],
   "source": [
    "s1_as_ = s1_as.astype(int)\n",
    "s1_des_ = s1_des.astype(int)\n",
    "\n"
   ]
  },
  {
   "cell_type": "code",
   "execution_count": 9,
   "metadata": {},
   "outputs": [],
   "source": [
    "writeTiff(s1_as_, im_geotrans=s1_as_info['geotrans'], \\\n",
    "              im_geosrs=s1_as_info['geosrs'], path_out='data/test_demo/s1as_.tif')\n",
    "writeTiff(s1_des_, im_geotrans=s1_des_info['geotrans'], \\\n",
    "              im_geosrs=s1_des_info['geosrs'], path_out='data/test_demo/s1des_.tif')\n",
    "\n"
   ]
  }
 ],
 "metadata": {
  "kernelspec": {
   "display_name": "venv-tibetwater",
   "language": "python",
   "name": "python3"
  },
  "language_info": {
   "codemirror_mode": {
    "name": "ipython",
    "version": 3
   },
   "file_extension": ".py",
   "mimetype": "text/x-python",
   "name": "python",
   "nbconvert_exporter": "python",
   "pygments_lexer": "ipython3",
   "version": "3.9.15"
  },
  "orig_nbformat": 4
 },
 "nbformat": 4,
 "nbformat_minor": 2
}
