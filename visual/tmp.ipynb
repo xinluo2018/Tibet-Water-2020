{
 "cells": [
  {
   "cell_type": "code",
   "execution_count": 1,
   "metadata": {},
   "outputs": [],
   "source": [
    "import os\n",
    "os.chdir('..')\n",
    "from notebooks import config\n",
    "import numpy as np\n",
    "from utils.geotif_io import readTiff, writeTiff\n",
    "from utils.imgShow import imgShow\n",
    "from utils.metric import acc_matrix\n",
    "import matplotlib.pyplot as plt\n"
   ]
  },
  {
   "cell_type": "code",
   "execution_count": 3,
   "metadata": {},
   "outputs": [
    {
     "name": "stdout",
     "output_type": "stream",
     "text": [
      "(3326, 3511, 2) (3326, 3511, 2) (3326, 3511) (3326, 3511)\n"
     ]
    }
   ],
   "source": [
    "tile_id = '16'\n",
    "\n",
    "path_as = config.root_proj + '/data/dset/s1_ascend/s1_as_scene_' + tile_id + '.tif'\n",
    "path_des = config.root_proj + '/data/dset/s1_descend/s1_des_scene_' + tile_id + '.tif'\n",
    "path_truth = config.root_proj + '/data/dset/s1_truth/s1_scene_' + tile_id + '_truth.tif'\n",
    "path_wat = config.root_proj + '/data/dset/s1_water/s1_as_scene_' + tile_id + '_water.tif'\n",
    "\n",
    "## -- data read\n",
    "s1_as, s1_as_info = readTiff(path_in = path_as)\n",
    "s1_des, s1_des_info = readTiff(path_in = path_des)\n",
    "s1_truth, s1_truth_info = readTiff(path_in = path_truth)\n",
    "s1_wat, s1_wat_info = readTiff(path_in = path_wat)\n",
    "s1_img = np.concatenate((s1_as, s1_des), axis=2)\n",
    "print(s1_as.shape, s1_des.shape, s1_truth.shape, s1_wat.shape)\n",
    "\n"
   ]
  },
  {
   "cell_type": "code",
   "execution_count": 42,
   "metadata": {},
   "outputs": [
    {
     "name": "stdout",
     "output_type": "stream",
     "text": [
      "0.999 0.9966 0.9505 [[11460035    10733]\n",
      " [     701   206117]]\n"
     ]
    }
   ],
   "source": [
    "acc_oa, prod, user, confus_mat = acc_matrix(s1_wat,  sam_pixel=None, truth_map=s1_truth, id_label=1)\n",
    "print(acc_oa, prod, user, confus_mat)\n"
   ]
  },
  {
   "cell_type": "code",
   "execution_count": 4,
   "metadata": {},
   "outputs": [
    {
     "data": {
      "image/png": "[encoded data removed]",
      "text/plain": [
       "<Figure size 720x360 with 2 Axes>"
      ]
     },
     "metadata": {
      "needs_background": "light"
     },
     "output_type": "display_data"
    }
   ],
   "source": [
    "plt.figure(figsize=(10,5))\n",
    "plt.subplot(1,2,1)\n",
    "imgShow(s1_wat)\n",
    "plt.subplot(1,2,2)\n",
    "imgShow(s1_truth)\n"
   ]
  },
  {
   "cell_type": "code",
   "execution_count": null,
   "metadata": {},
   "outputs": [],
   "source": [
    "\n"
   ]
  }
 ],
 "metadata": {
  "interpreter": {
   "hash": "9e6e69ff3e2cd36413e9d5ecdd2d7f5c54dab503588d73d0cbbe7b01ed05180c"
  },
  "kernelspec": {
   "display_name": "Python 3.6.13 64-bit ('venv-luo': conda)",
   "name": "python3"
  },
  "language_info": {
   "codemirror_mode": {
    "name": "ipython",
    "version": 3
   },
   "file_extension": ".py",
   "mimetype": "text/x-python",
   "name": "python",
   "nbconvert_exporter": "python",
   "pygments_lexer": "ipython3",
   "version": "3.6.13"
  },
  "orig_nbformat": 4
 },
 "nbformat": 4,
 "nbformat_minor": 2
}
