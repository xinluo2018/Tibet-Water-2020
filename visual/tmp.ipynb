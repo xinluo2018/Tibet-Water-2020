{
 "cells": [
  {
   "cell_type": "code",
   "execution_count": 1,
   "metadata": {},
   "outputs": [],
   "source": [
    "import os\n",
    "os.chdir('..')\n",
    "from notebooks import config\n",
    "import numpy as np\n",
    "from utils.geotif_io import readTiff, writeTiff\n",
    "from utils.imgShow import imgShow\n",
    "from utils.metric import acc_matrix\n",
    "import matplotlib.pyplot as plt\n"
   ]
  },
  {
   "cell_type": "code",
   "execution_count": 121,
   "metadata": {},
   "outputs": [],
   "source": [
    "tile_id = '23'\n",
    "\n",
    "path_as = config.root_proj + '/data/dset/s1_ascend/s1as_scene' + tile_id + '.tif'\n",
    "path_des = config.root_proj + '/data/dset/s1_descend/s1des_scene' + tile_id + '.tif'\n",
    "path_as_des = config.root_proj + '/data/dset/s1_as_des/scene' + tile_id + '_s1as_des.tif'\n",
    "path_water = config.root_proj + '/data/dset/s1_water/scene' + tile_id + '_water.tif'\n",
    "path_truth = config.root_proj + '/data/dset/s1_truth/scene' + tile_id + '_wat_truth.tif'\n",
    "\n",
    "## -- data read\n",
    "s1_as, s1_as_info = readTiff(path_in = path_as)\n",
    "s1_des, s1_des_info = readTiff(path_in = path_des)\n",
    "s1_as_des = np.concatenate((s1_as, s1_des), axis=2)\n",
    "s1_water, s1_water_info = readTiff(path_in = path_water)\n",
    "s1_truth, s1_truth_info = readTiff(path_in = path_truth)\n"
   ]
  },
  {
   "cell_type": "code",
   "execution_count": 122,
   "metadata": {},
   "outputs": [],
   "source": [
    "# writeTiff(im_data=s1_as_des, im_geotrans=s1_as_info['geotrans'], im_geosrs=s1_as_info['geosrs'], path_out=path_as_des)\n"
   ]
  },
  {
   "cell_type": "code",
   "execution_count": 123,
   "metadata": {},
   "outputs": [],
   "source": [
    "# plt.figure(figsize=(15,5))\n",
    "# plt.subplot(1,3,1)\n",
    "# imgShow(s1_as_des,color_bands=(2, 1, 0), clip_percent=2)\n",
    "# plt.subplot(1,3,2)\n",
    "# imgShow(s1_water, color_bands=(0, 0, 0), clip_percent=2)\n",
    "# plt.subplot(1,3,3)\n",
    "# imgShow(s1_truth, color_bands=(0, 0, 0), clip_percent=2)\n"
   ]
  },
  {
   "cell_type": "code",
   "execution_count": 124,
   "metadata": {},
   "outputs": [],
   "source": [
    "plt.figure(figsize=(10,5))\n",
    "s1_water_2 = s1_water.copy()\n",
    "s1_water_2[896:-896,896:-896] = 0\n",
    "s1_water_3 = s1_water_2 + s1_truth\n",
    "# plt.subplot(1,3,1)\n",
    "# imgShow(s1_water, color_bands=(0, 0, 0), clip_percent=2)\n",
    "# plt.subplot(1,3,2)\n",
    "# imgShow(s1_water_2, color_bands=(0, 0, 0), clip_percent=2)\n",
    "# plt.subplot(1,3,3)\n",
    "# imgShow(s1_water_3, color_bands=(0, 0, 0), clip_percent=2)\n"
   ]
  },
  {
   "cell_type": "code",
   "execution_count": 125,
   "metadata": {},
   "outputs": [],
   "source": [
    "out = config.root_proj + '/data/dset/s1_water_/scene' + tile_id + '_water.tif'\n",
    "writeTiff(im_data=s1_water_3, im_geotrans=s1_water_info['geotrans'], im_geosrs=s1_water_info['geosrs'], path_out=out)\n",
    "\n"
   ]
  },
  {
   "cell_type": "code",
   "execution_count": null,
   "metadata": {},
   "outputs": [],
   "source": []
  },
  {
   "cell_type": "code",
   "execution_count": null,
   "metadata": {},
   "outputs": [],
   "source": []
  }
 ],
 "metadata": {
  "interpreter": {
   "hash": "9e6e69ff3e2cd36413e9d5ecdd2d7f5c54dab503588d73d0cbbe7b01ed05180c"
  },
  "kernelspec": {
   "display_name": "Python 3.6.13 64-bit ('venv-luo': conda)",
   "name": "python3"
  },
  "language_info": {
   "codemirror_mode": {
    "name": "ipython",
    "version": 3
   },
   "file_extension": ".py",
   "mimetype": "text/x-python",
   "name": "python",
   "nbconvert_exporter": "python",
   "pygments_lexer": "ipython3",
   "version": "3.6.13"
  },
  "orig_nbformat": 4
 },
 "nbformat": 4,
 "nbformat_minor": 2
}
