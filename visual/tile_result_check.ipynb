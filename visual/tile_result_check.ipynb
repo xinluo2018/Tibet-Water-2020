{
 "cells": [
  {
   "cell_type": "code",
   "execution_count": null,
   "metadata": {},
   "outputs": [],
   "source": [
    "import os\n",
    "os.chdir('..')\n",
    "from notebooks import config\n",
    "import geopandas as gpd\n",
    "import numpy as np\n",
    "from utils.geotif_io import readTiff, writeTiff\n",
    "from utils.imgShow import imgShow\n",
    "import matplotlib.pyplot as plt\n",
    "from utils.transform_xy import geo2imagexy\n"
   ]
  },
  {
   "cell_type": "code",
   "execution_count": null,
   "metadata": {},
   "outputs": [],
   "source": [
    "path_vector = config.root_proj + '/data/tibet/tibet_tiles_vec/tibet_tiles.gpkg'\n",
    "tiles_gdf = gpd.read_file(path_vector)\n",
    "tiles_gdf.head()\n"
   ]
  },
  {
   "cell_type": "code",
   "execution_count": null,
   "metadata": {},
   "outputs": [],
   "source": [
    "# ## check the prediction water map\n",
    "# ## -- data path\n",
    "month_id = '202001'\n",
    "tile_id = '058'\n",
    "path_s1_img = config.root_tb_data + '/tibet-'+month_id+'/s1_ascend/tibet_s1as_'+month_id+'_tile_'+tile_id+'.tif'\n",
    "path_wat = config.root_tb_data + '/tibet-'+month_id+'/s1_water/tibet_s1_'+month_id+'_tile_'+tile_id+'_water.tif'\n",
    "## -- data read\n",
    "s1_img_tile, s1_img_tile_info = readTiff(path_in = path_s1_img)\n",
    "s1_tile_wat, s1_tile_wat_info = readTiff(path_in = path_wat)\n",
    "## -- data visualization\n",
    "plt.figure(figsize=(12, 6))\n",
    "## plot s1 image\n",
    "plt.subplot(1,2,1)\n",
    "imgShow(s1_img_tile, color_bands=(0,1,0), clip_percent=2)\n",
    "# outline\n",
    "idx, = np.where(tiles_gdf['tile_id'].values == tile_id)\n",
    "tile_region = tiles_gdf.loc[int(idx)]['geometry'].bounds\n",
    "outline_lon = [tile_region[0], tile_region[2], tile_region[2], tile_region[0], tile_region[0]]\n",
    "outline_lat = [tile_region[1], tile_region[1], tile_region[3], tile_region[3], tile_region[1]]\n",
    "outline_row, outline_col = geo2imagexy(x=np.array(outline_lon), \\\n",
    "                        y=np.array(outline_lat), gdal_trans=s1_img_tile_info['geotrans'])\n",
    "plt.plot(outline_col, outline_row, color='g', linewidth=2)\n",
    "## plot water map\n",
    "plt.subplot(1,2,2)\n",
    "imgShow(s1_tile_wat, color_bands=(0,1,0), clip_percent=2)\n",
    "plt.plot(outline_col, outline_row, color='g', linewidth=2)\n",
    "\n"
   ]
  },
  {
   "cell_type": "code",
   "execution_count": null,
   "metadata": {},
   "outputs": [],
   "source": [
    "# ## check the prediction water map\n",
    "# ## -- data path\n",
    "# tile_id = '218'\n",
    "month_id = '202008'\n",
    "path_wat = config.root_tb_data+'/tibet-'+month_id +'/s1_water_1/tibet_s1_'+month_id+'_tile_'+tile_id+'_water.tif'\n",
    "## -- data read\n",
    "s1_tile_wat_, s1_tile_wat_info_ = readTiff(path_in = path_wat)\n",
    "## -- data visualization\n",
    "plt.figure(figsize=(12,6))\n",
    "## plot s1 image\n",
    "plt.subplot(1,2,1)\n",
    "imgShow(s1_img_tile, color_bands=(0,1,0), clip_percent=2)\n",
    "plt.plot(outline_col, outline_row, color='g', linewidth=2)\n",
    "## plot water map\n",
    "plt.subplot(1,2,2)\n",
    "imgShow(s1_tile_wat_, color_bands=(0,1,0), clip_percent=2)\n",
    "plt.plot(outline_col, outline_row, color='g', linewidth=2)\n",
    "\n"
   ]
  },
  {
   "cell_type": "markdown",
   "metadata": {},
   "source": [
    "### Zoom in visualization"
   ]
  },
  {
   "cell_type": "code",
   "execution_count": null,
   "metadata": {},
   "outputs": [],
   "source": [
    "plt.figure(figsize=(12,5))\n",
    "region = [2000,4000,9000,11000]\n",
    "# region = [4000, 6000, 1000, 3000]\n",
    "# region = [8000,10000,3000,5000]\n",
    "# region = [6000,8000,11000,13000]\n",
    "plt.subplot(1,3,1)\n",
    "imgShow(s1_img_tile, color_bands=(0,1,0), clip_percent=2, focus=region)\n",
    "plt.title('s1 image')\n",
    "## plot water map\n",
    "plt.subplot(1,3,2)\n",
    "imgShow(s1_tile_wat_, color_bands=(0,1,0), clip_percent=2, focus=region)\n",
    "plt.title('old model')\n",
    "plt.subplot(1,3,3)\n",
    "imgShow(s1_tile_wat, color_bands=(0,1,0), clip_percent=2, focus=region)\n",
    "plt.title('new model')\n"
   ]
  }
 ],
 "metadata": {
  "interpreter": {
   "hash": "9e6e69ff3e2cd36413e9d5ecdd2d7f5c54dab503588d73d0cbbe7b01ed05180c"
  },
  "kernelspec": {
   "display_name": "Python 3.6.13 64-bit ('venv-luo': conda)",
   "name": "python3"
  },
  "language_info": {
   "codemirror_mode": {
    "name": "ipython",
    "version": 3
   },
   "file_extension": ".py",
   "mimetype": "text/x-python",
   "name": "python",
   "nbconvert_exporter": "python",
   "pygments_lexer": "ipython3",
   "version": "3.6.13"
  },
  "orig_nbformat": 4
 },
 "nbformat": 4,
 "nbformat_minor": 2
}
