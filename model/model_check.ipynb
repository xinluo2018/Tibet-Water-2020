{
 "cells": [
  {
   "attachments": {},
   "cell_type": "markdown",
   "metadata": {},
   "source": [
    "## Check the backbone models and the structured models.\n"
   ]
  },
  {
   "cell_type": "code",
   "execution_count": 1,
   "metadata": {},
   "outputs": [],
   "source": [
    "import torch\n",
    "from model.backbone.xception65 import Xception65\n",
    "from model.backbone.mobilenet import MobileNetV2\n",
    "from model.seg_model.deeplabv3plus import deeplabv3plus\n",
    "from model.seg_model.deeplabv3plus_mobilev2 import deeplabv3plus_mobilev2\n",
    "from model.seg_model.unet import unet\n",
    "from model.seg_model.unet_scales import unet_scales\n",
    "from model.seg_model.unet_scales_gate import unet_scales_gate\n",
    "from model.seg_model.hrnet import hrnet\n",
    "from torchsummary import summary\n",
    "import matplotlib.pyplot as plt\n",
    "\n"
   ]
  },
  {
   "cell_type": "code",
   "execution_count": 2,
   "metadata": {},
   "outputs": [],
   "source": [
    "input = torch.randn(4, 4, 256, 256)\n",
    "input_scales = [torch.randn(4, 4, 256, 256),torch.randn(4, 4, 256, 256),torch.randn(4, 4, 256, 256)]\n",
    "truth = torch.randn(4, 1, 256, 256)\n",
    "# # input_scales, truth = torch.load(f='data/test_patches/patch_000.pt')\n",
    "# # input_scales = [torch.unsqueeze(input, 0) for input in input_scales]\n"
   ]
  },
  {
   "attachments": {},
   "cell_type": "markdown",
   "metadata": {},
   "source": [
    "### Check backbone networks."
   ]
  },
  {
   "cell_type": "code",
   "execution_count": 4,
   "metadata": {},
   "outputs": [
    {
     "name": "stdout",
     "output_type": "stream",
     "text": [
      "output shape: torch.Size([4, 2])\n"
     ]
    }
   ],
   "source": [
    "model = Xception65(num_bands=4, num_classes=2)\n",
    "outp = model(input)\n",
    "print('output shape:', outp.shape)\n"
   ]
  },
  {
   "cell_type": "code",
   "execution_count": 6,
   "metadata": {},
   "outputs": [
    {
     "name": "stdout",
     "output_type": "stream",
     "text": [
      "output shape: torch.Size([4, 2])\n"
     ]
    }
   ],
   "source": [
    "model = MobileNetV2(num_bands=4, num_classes=2)\n",
    "outp = model(input)\n",
    "print('output shape:', outp.shape)\n"
   ]
  },
  {
   "attachments": {},
   "cell_type": "markdown",
   "metadata": {},
   "source": [
    "### Check U-Net"
   ]
  },
  {
   "cell_type": "code",
   "execution_count": 8,
   "metadata": {},
   "outputs": [
    {
     "name": "stdout",
     "output_type": "stream",
     "text": [
      "output: torch.Size([4, 1, 256, 256])\n"
     ]
    }
   ],
   "source": [
    "model = unet(num_bands=4, num_classes=2)\n",
    "outp = model(input)\n",
    "print('output:', outp.shape)\n"
   ]
  },
  {
   "attachments": {},
   "cell_type": "markdown",
   "metadata": {},
   "source": [
    "### Check Deeplabv3plus"
   ]
  },
  {
   "cell_type": "code",
   "execution_count": 11,
   "metadata": {},
   "outputs": [
    {
     "name": "stdout",
     "output_type": "stream",
     "text": [
      "output: torch.Size([4, 1, 256, 256])\n"
     ]
    }
   ],
   "source": [
    "model = deeplabv3plus(num_bands=4, num_classes=2)\n",
    "outp = model(input)\n",
    "print('output:', outp.shape)\n",
    "\n"
   ]
  },
  {
   "attachments": {},
   "cell_type": "markdown",
   "metadata": {},
   "source": [
    "### Check Deeplabv3plus_imp"
   ]
  },
  {
   "cell_type": "code",
   "execution_count": 12,
   "metadata": {},
   "outputs": [
    {
     "name": "stdout",
     "output_type": "stream",
     "text": [
      "output: torch.Size([4, 1, 256, 256])\n"
     ]
    }
   ],
   "source": [
    "model = deeplabv3plus_mobilev2(num_bands=4, num_classes=2, channels_fea=[16,24,64])\n",
    "outp = model(input)\n",
    "print('output:', outp.shape)\n"
   ]
  },
  {
   "attachments": {},
   "cell_type": "markdown",
   "metadata": {},
   "source": [
    "### Check HRNet"
   ]
  },
  {
   "cell_type": "code",
   "execution_count": 13,
   "metadata": {},
   "outputs": [
    {
     "name": "stdout",
     "output_type": "stream",
     "text": [
      "output: torch.Size([4, 1, 256, 256])\n"
     ]
    }
   ],
   "source": [
    "model = hrnet(num_bands=4, num_classes=2)\n",
    "outp = model(input)\n",
    "print('output:', outp.shape)\n"
   ]
  },
  {
   "attachments": {},
   "cell_type": "markdown",
   "metadata": {},
   "source": [
    "### Check unet_scales"
   ]
  },
  {
   "cell_type": "code",
   "execution_count": 14,
   "metadata": {},
   "outputs": [
    {
     "name": "stdout",
     "output_type": "stream",
     "text": [
      "output: torch.Size([4, 1, 256, 256])\n"
     ]
    }
   ],
   "source": [
    "model = unet_scales(num_bands=4, num_classes=2, scale_high=2048, scale_mid=512, scale_low=256)\n",
    "outp = model(input_scales)\n",
    "print('output:', outp.shape)\n"
   ]
  },
  {
   "attachments": {},
   "cell_type": "markdown",
   "metadata": {},
   "source": [
    "### Check unet_scales_gate"
   ]
  },
  {
   "cell_type": "code",
   "execution_count": 15,
   "metadata": {},
   "outputs": [
    {
     "name": "stdout",
     "output_type": "stream",
     "text": [
      "output: torch.Size([4, 1, 256, 256])\n"
     ]
    }
   ],
   "source": [
    "model = unet_scales_gate(num_bands=4, num_classes=2, scale_high=2048, scale_mid=512, scale_low=256)\n",
    "outp = model(input_scales)\n",
    "print('output:', outp.shape)\n"
   ]
  }
 ],
 "metadata": {
  "kernelspec": {
   "display_name": "venv-tibetwater",
   "language": "python",
   "name": "python3"
  },
  "language_info": {
   "codemirror_mode": {
    "name": "ipython",
    "version": 3
   },
   "file_extension": ".py",
   "mimetype": "text/x-python",
   "name": "python",
   "nbconvert_exporter": "python",
   "pygments_lexer": "ipython3",
   "version": "3.9.15"
  },
  "orig_nbformat": 4,
  "vscode": {
   "interpreter": {
    "hash": "845e3c3edce3045d0fb8b6eb0e71ae925453319af75bc104ea4cd19886cbfe31"
   }
  }
 },
 "nbformat": 4,
 "nbformat_minor": 2
}
