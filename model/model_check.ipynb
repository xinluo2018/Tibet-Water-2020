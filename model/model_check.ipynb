{
 "cells": [
  {
   "cell_type": "code",
   "execution_count": 1,
   "metadata": {},
   "outputs": [],
   "source": [
    "import os\n",
    "os.chdir('..')\n",
    "import torch\n",
    "from model.base_model.xception65 import Xception65\n",
    "from model.base_model.mobilenet import MobileNetV2\n",
    "from model.seg_model.encoder import Xception65_feat, Mobilev2_feat\n",
    "from model.seg_model.deeplabv3_plus import deeplabv3plus, deeplabv3plus_imp\n",
    "from model.seg_model.unet import unet,unet_2\n",
    "from model.seg_model.model_scales_in import unet_triple\n",
    "from model.seg_model.model_scales_gate import unet_triple_gate\n",
    "from torchsummary import summary\n",
    "import matplotlib.pyplot as plt\n"
   ]
  },
  {
   "cell_type": "code",
   "execution_count": 2,
   "metadata": {},
   "outputs": [],
   "source": [
    "# input = torch.randn(4, 4, 256, 256)\n",
    "input_scales = [torch.randn(4, 4, 256, 256),torch.randn(4, 4, 256, 256),torch.randn(4, 4, 256, 256)]\n",
    "truth = torch.randn(4, 1, 256, 256)\n",
    "# input_scales, truth = torch.load(f='data/test_patches/patch_000.pt')\n",
    "# input_scales = [torch.unsqueeze(input, 0) for input in input_scales]\n"
   ]
  },
  {
   "cell_type": "code",
   "execution_count": 3,
   "metadata": {},
   "outputs": [],
   "source": [
    "# model = Xception65(num_bands=4, num_classes=2)\n",
    "# outp = model(input)\n",
    "# print(outp.shape)\n",
    "# # summary(model, input_size=(4,256,256))\n"
   ]
  },
  {
   "cell_type": "code",
   "execution_count": 4,
   "metadata": {},
   "outputs": [],
   "source": [
    "# encoder = Xception65_feat(num_bands=4)\n",
    "# outp = encoder(input)\n",
    "# for i in range(len(outp)):\n",
    "#     print(outp[i].shape)\n",
    "\n"
   ]
  },
  {
   "cell_type": "code",
   "execution_count": 5,
   "metadata": {},
   "outputs": [],
   "source": [
    "# model = MobileNetV2(num_bands=4, num_classes=2)\n",
    "# outp = model(input)\n",
    "# print(outp.shape)\n",
    "\n"
   ]
  },
  {
   "cell_type": "code",
   "execution_count": 6,
   "metadata": {},
   "outputs": [],
   "source": [
    "# encoder = Mobilev2_feat(num_bands=4)\n",
    "# outp = encoder(input)\n",
    "# for i in range(len(outp)):\n",
    "#     print(outp[i].shape)\n"
   ]
  },
  {
   "cell_type": "markdown",
   "metadata": {},
   "source": [
    "## Check U-Net"
   ]
  },
  {
   "cell_type": "code",
   "execution_count": 7,
   "metadata": {},
   "outputs": [],
   "source": [
    "# model = unet(num_bands=4, num_classes=2)\n",
    "# model.eval()\n",
    "# input = torch.randn(4, 4, 256, 256)\n",
    "# outp = model(input)\n",
    "# print(outp.shape)\n"
   ]
  },
  {
   "cell_type": "markdown",
   "metadata": {},
   "source": [
    "## Check Deeplabv3plus"
   ]
  },
  {
   "cell_type": "code",
   "execution_count": 8,
   "metadata": {},
   "outputs": [],
   "source": [
    "# model = deeplabv3plus(num_bands=4, num_classes=2)\n",
    "# # summary(model,(4, 256, 256))\n",
    "# model.eval()\n",
    "# outp = model(input)\n",
    "# print(outp.shape)\n",
    "\n"
   ]
  },
  {
   "cell_type": "markdown",
   "metadata": {},
   "source": [
    "## Check Deeplabv3plus_imp"
   ]
  },
  {
   "cell_type": "code",
   "execution_count": 9,
   "metadata": {},
   "outputs": [],
   "source": [
    "# model = deeplabv3plus_imp(num_bands=4, num_classes=2, channels_fea=[16,24,64])\n",
    "# outp = model(input)\n",
    "# print(outp.shape)\n",
    "\n"
   ]
  },
  {
   "cell_type": "markdown",
   "metadata": {},
   "source": [
    "## Check unet_triple"
   ]
  },
  {
   "cell_type": "code",
   "execution_count": 10,
   "metadata": {},
   "outputs": [],
   "source": [
    "# model = unet_triple(num_bands=4, num_classes=2, scale_high=2048, scale_mid=512, scale_low=256)\n",
    "# outp = model(input_scales)\n",
    "# print(outp.shape)\n",
    "\n"
   ]
  },
  {
   "cell_type": "markdown",
   "metadata": {},
   "source": [
    "## Check unet_triple_gate"
   ]
  },
  {
   "cell_type": "code",
   "execution_count": 11,
   "metadata": {},
   "outputs": [],
   "source": [
    "# model = unet_triple_gate(num_bands=4, num_classes=2, scale_high=2048, scale_mid=512, scale_low=256)\n",
    "# outp,gates_mid, gates_high = model(input_scales)\n",
    "# print(outp.shape)\n"
   ]
  },
  {
   "cell_type": "code",
   "execution_count": 12,
   "metadata": {},
   "outputs": [],
   "source": [
    "# gates_mid[4].shape\n",
    "# plt.subplot(1,2,1)\n",
    "# plt.imshow(gates_mid[4][0,0].detach().numpy())\n",
    "# plt.subplot(1,2,2)\n",
    "# plt.imshow(gates_high[4][0,0].detach().numpy())\n"
   ]
  },
  {
   "cell_type": "markdown",
   "metadata": {},
   "source": [
    "## Check unet_triple_gate_tmp"
   ]
  },
  {
   "cell_type": "code",
   "execution_count": 13,
   "metadata": {},
   "outputs": [
    {
     "name": "stdout",
     "output_type": "stream",
     "text": [
      "torch.Size([4, 1, 256, 256])\n"
     ]
    }
   ],
   "source": [
    "model = unet_triple_gate_tmp(num_bands=4, num_classes=2, scale_high=2048, scale_mid=512, scale_low=256)\n",
    "outp, gate_mid, gate_high = model(input_scales)\n",
    "print(outp.shape)\n"
   ]
  }
 ],
 "metadata": {
  "interpreter": {
   "hash": "6f5bb23da6bd6ab87296804a7ae062a565b497c650c7064ca78191dd29b49fd6"
  },
  "kernelspec": {
   "display_name": "Python 3.6.13 64-bit ('venv-luo': conda)",
   "name": "python3"
  },
  "language_info": {
   "codemirror_mode": {
    "name": "ipython",
    "version": 3
   },
   "file_extension": ".py",
   "mimetype": "text/x-python",
   "name": "python",
   "nbconvert_exporter": "python",
   "pygments_lexer": "ipython3",
   "version": "3.6.13"
  },
  "orig_nbformat": 4
 },
 "nbformat": 4,
 "nbformat_minor": 2
}
