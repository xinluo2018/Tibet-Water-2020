{
 "cells": [
  {
   "cell_type": "code",
   "execution_count": 1,
   "source": [
    "import os\n",
    "os.chdir('..')\n",
    "import torch\n",
    "from model.base_model.xception65 import Xception65\n",
    "from model.base_model.mobilenet import MobileNetV2\n",
    "from model.seg_model.encoder import Xception65_feat, Mobilev2_feat\n",
    "from model.seg_model.deeplabv3_plus import deeplabv3plus, deeplabv3plus_imp\n",
    "from model.seg_model.unet import unet,unet_2\n",
    "from model.seg_model.model_scales_in import unet_triple\n",
    "from model.seg_model.model_scales_gate import unet_triple_gate\n",
    "from model.seg_model.model_scales_gate_tmp import unet_triple_gate_tmp\n",
    "from torchsummary import summary\n",
    "import matplotlib.pyplot as plt\n"
   ],
   "outputs": [],
   "metadata": {}
  },
  {
   "cell_type": "code",
   "execution_count": 2,
   "source": [
    "# input = torch.randn(4, 4, 256, 256)\n",
    "input_scales = [torch.randn(4, 4, 256, 256),torch.randn(4, 4, 256, 256),torch.randn(4, 4, 256, 256)]\n",
    "truth = torch.randn(4, 1, 256, 256)\n",
    "# input_scales, truth = torch.load(f='data/test_patches/patch_000.pt')\n",
    "# input_scales = [torch.unsqueeze(input, 0) for input in input_scales]\n"
   ],
   "outputs": [],
   "metadata": {}
  },
  {
   "cell_type": "code",
   "execution_count": 3,
   "source": [
    "# model = Xception65(num_bands=4, num_classes=2)\n",
    "# outp = model(input)\n",
    "# print(outp.shape)\n",
    "# # summary(model, input_size=(4,256,256))\n"
   ],
   "outputs": [],
   "metadata": {}
  },
  {
   "cell_type": "code",
   "execution_count": 4,
   "source": [
    "# encoder = Xception65_feat(num_bands=4)\n",
    "# outp = encoder(input)\n",
    "# for i in range(len(outp)):\n",
    "#     print(outp[i].shape)\n",
    "\n"
   ],
   "outputs": [],
   "metadata": {}
  },
  {
   "cell_type": "code",
   "execution_count": 5,
   "source": [
    "# model = MobileNetV2(num_bands=4, num_classes=2)\n",
    "# outp = model(input)\n",
    "# print(outp.shape)\n",
    "\n"
   ],
   "outputs": [],
   "metadata": {}
  },
  {
   "cell_type": "code",
   "execution_count": 6,
   "source": [
    "# encoder = Mobilev2_feat(num_bands=4)\n",
    "# outp = encoder(input)\n",
    "# for i in range(len(outp)):\n",
    "#     print(outp[i].shape)\n"
   ],
   "outputs": [],
   "metadata": {}
  },
  {
   "cell_type": "markdown",
   "source": [
    "## Check U-Net"
   ],
   "metadata": {}
  },
  {
   "cell_type": "code",
   "execution_count": 7,
   "source": [
    "# model = unet(num_bands=4, num_classes=2)\n",
    "# model.eval()\n",
    "# input = torch.randn(4, 4, 256, 256)\n",
    "# outp = model(input)\n",
    "# print(outp.shape)\n"
   ],
   "outputs": [],
   "metadata": {}
  },
  {
   "cell_type": "markdown",
   "source": [
    "## Check Deeplabv3plus"
   ],
   "metadata": {}
  },
  {
   "cell_type": "code",
   "execution_count": 8,
   "source": [
    "# model = deeplabv3plus(num_bands=4, num_classes=2)\n",
    "# # summary(model,(4, 256, 256))\n",
    "# model.eval()\n",
    "# outp = model(input)\n",
    "# print(outp.shape)\n",
    "\n"
   ],
   "outputs": [],
   "metadata": {}
  },
  {
   "cell_type": "markdown",
   "source": [
    "## Check Deeplabv3plus_imp"
   ],
   "metadata": {}
  },
  {
   "cell_type": "code",
   "execution_count": 9,
   "source": [
    "# model = deeplabv3plus_imp(num_bands=4, num_classes=2, channels_fea=[16,24,64])\n",
    "# outp = model(input)\n",
    "# print(outp.shape)\n",
    "\n"
   ],
   "outputs": [],
   "metadata": {}
  },
  {
   "cell_type": "markdown",
   "source": [
    "## Check unet_triple"
   ],
   "metadata": {}
  },
  {
   "cell_type": "code",
   "execution_count": 10,
   "source": [
    "# model = unet_triple(num_bands=4, num_classes=2, scale_high=2048, scale_mid=512, scale_low=256)\n",
    "# outp = model(input_scales)\n",
    "# print(outp.shape)\n",
    "\n"
   ],
   "outputs": [],
   "metadata": {}
  },
  {
   "cell_type": "markdown",
   "source": [
    "## Check unet_triple_gate"
   ],
   "metadata": {}
  },
  {
   "cell_type": "code",
   "execution_count": 11,
   "source": [
    "# model = unet_triple_gate(num_bands=4, num_classes=2, scale_high=2048, scale_mid=512, scale_low=256)\n",
    "# outp,gates_mid, gates_high = model(input_scales)\n",
    "# print(outp.shape)\n"
   ],
   "outputs": [],
   "metadata": {}
  },
  {
   "cell_type": "code",
   "execution_count": 12,
   "source": [
    "# gates_mid[4].shape\n",
    "# plt.subplot(1,2,1)\n",
    "# plt.imshow(gates_mid[4][0,0].detach().numpy())\n",
    "# plt.subplot(1,2,2)\n",
    "# plt.imshow(gates_high[4][0,0].detach().numpy())\n"
   ],
   "outputs": [],
   "metadata": {}
  },
  {
   "cell_type": "markdown",
   "source": [
    "## Check unet_triple_gate_tmp"
   ],
   "metadata": {}
  },
  {
   "cell_type": "code",
   "execution_count": 13,
   "source": [
    "model = unet_triple_gate_tmp(num_bands=4, num_classes=2, scale_high=2048, scale_mid=512, scale_low=256)\n",
    "outp, gate_mid, gate_high = model(input_scales)\n",
    "print(outp.shape)\n"
   ],
   "outputs": [
    {
     "output_type": "stream",
     "name": "stdout",
     "text": [
      "torch.Size([4, 1, 256, 256])\n"
     ]
    }
   ],
   "metadata": {}
  }
 ],
 "metadata": {
  "interpreter": {
   "hash": "6f5bb23da6bd6ab87296804a7ae062a565b497c650c7064ca78191dd29b49fd6"
  },
  "kernelspec": {
   "display_name": "Python 3.6.13 64-bit ('venv-luo': conda)",
   "name": "python3"
  },
  "language_info": {
   "codemirror_mode": {
    "name": "ipython",
    "version": 3
   },
   "file_extension": ".py",
   "mimetype": "text/x-python",
   "name": "python",
   "nbconvert_exporter": "python",
   "pygments_lexer": "ipython3",
   "version": "3.6.13"
  },
  "orig_nbformat": 4
 },
 "nbformat": 4,
 "nbformat_minor": 2
}